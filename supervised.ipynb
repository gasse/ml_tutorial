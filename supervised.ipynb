{
 "cells": [
  {
   "cell_type": "markdown",
   "metadata": {},
   "source": [
    "# TP ML : Apprentissage supervisé"
   ]
  },
  {
   "cell_type": "markdown",
   "metadata": {},
   "source": [
    "## ICI: Noms de votre binome"
   ]
  },
  {
   "cell_type": "code",
   "execution_count": null,
   "metadata": {
    "scrolled": true
   },
   "outputs": [],
   "source": [
    "import matplotlib.pyplot as plt\n",
    "from sklearn.datasets import fetch_mldata\n",
    "from sklearn.cluster import KMeans\n",
    "\n",
    "mnist = fetch_mldata(\"MNIST original\", data_home=\"/softwares/INFO/Module_ML/scikit_learn_data\")\n",
    "\n",
    "# rescale the data, use the traditional train/test split\n",
    "X, Y = mnist.data / 255., mnist.target\n",
    "x_train, x_test = X[:60000], X[60000:]\n",
    "y_train, y_test = y[:60000], y[60000:]"
   ]
  },
  {
   "cell_type": "code",
   "execution_count": null,
   "metadata": {},
   "outputs": [],
   "source": [
    "print(x.shape, y.shape)"
   ]
  },
  {
   "cell_type": "markdown",
   "metadata": {},
   "source": [
    "#### - Entrainez et mesurez les performances des modèles suivants:\n",
    "- KNN\n",
    "- Decision tree\n",
    "- Random forest\n",
    "- Linear svm\n",
    "- RBF SVM\n",
    "\n",
    "#### - Pour chaque modèle, faire varier ses hyperparamètres et reportez les résultats dans un tableau."
   ]
  },
  {
   "cell_type": "code",
   "execution_count": null,
   "metadata": {
    "collapsed": true
   },
   "outputs": [],
   "source": []
  },
  {
   "cell_type": "markdown",
   "metadata": {},
   "source": [
    "#### - Interprétez vos observations, donnez votre avis sur chacun des modèles (un paragraphe)."
   ]
  },
  {
   "cell_type": "markdown",
   "metadata": {},
   "source": [
    "#### * Votre réponse ici.*"
   ]
  },
  {
   "cell_type": "markdown",
   "metadata": {},
   "source": [
    "#### - Bonus: Améliorez votre meilleur modèle en faisant de l'augmentation de données:\n",
    "NB: Cropper les images 28x28 en 27x27, et par translation une image en donnera 4 (une par coin) légèrement différente et sera vue plusieurs fois par le modèle qui sera ainsi plus robuste. Puis faites le en 26x26, etc."
   ]
  },
  {
   "cell_type": "code",
   "execution_count": null,
   "metadata": {
    "collapsed": true
   },
   "outputs": [],
   "source": []
  }
 ],
 "metadata": {
  "kernelspec": {
   "display_name": "Python 3",
   "language": "python",
   "name": "python3"
  },
  "language_info": {
   "codemirror_mode": {
    "name": "ipython",
    "version": 3
   },
   "file_extension": ".py",
   "mimetype": "text/x-python",
   "name": "python",
   "nbconvert_exporter": "python",
   "pygments_lexer": "ipython3",
   "version": "3.5.3"
  }
 },
 "nbformat": 4,
 "nbformat_minor": 2
}
