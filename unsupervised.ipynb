{
 "cells": [
  {
   "cell_type": "markdown",
   "metadata": {},
   "source": [
    "# TP ML : Apprentissage non supervisé"
   ]
  },
  {
   "cell_type": "code",
   "execution_count": null,
   "metadata": {
    "scrolled": true
   },
   "outputs": [],
   "source": [
    "import matplotlib.pyplot as plt\n",
    "from sklearn.datasets import fetch_mldata\n",
    "from sklearn.cluster import KMeans\n",
    "from sklearn.metrics.pairwise import pairwise_distances_argmin\n",
    "from sklearn.datasets.samples_generator import make_blobs\n",
    "import numpy as np"
   ]
  },
  {
   "cell_type": "code",
   "execution_count": null,
   "metadata": {},
   "outputs": [],
   "source": [
    "print(x.shape, y.shape)"
   ]
  },
  {
   "cell_type": "markdown",
   "metadata": {},
   "source": [
    "## I) K-means\n",
    "\n",
    "### 1) Implémenter k-means.\n",
    "\n",
    "Aide:\n",
    "- Pour débugguer votre code, testez le sur le dataset généré ci-dessous.\n",
    "- Tirer des points au hasard pour initialiser les centroïdes des clusters avec np.random.choice (avec replace=False).\n",
    "- Utiliser la fonction pairwise_distances_argmin de scikit-learn pour calculer l'affectation des points au cluster."
   ]
  },
  {
   "cell_type": "code",
   "execution_count": null,
   "metadata": {},
   "outputs": [],
   "source": [
    "# Générer un jeu de données\n",
    "\n",
    "X = np.concatenate((\n",
    "    make_blobs(n_samples=3000, centers=([-1, 1], [-1, -1]), cluster_std=0.2)[0],\n",
    "    make_blobs(n_samples=3000, centers=([1, 1], ), cluster_std=0.5)[0]))\n",
    "\n",
    "fig = plt.figure(figsize=(4, 3))\n",
    "fig.subplots_adjust(left=0.02, right=0.98, bottom=0.05, top=0.9)\n",
    "\n",
    "ax = fig.add_subplot(1, 1, 1)\n",
    "ax.plot(X[:, 0], X[:, 1], 'w', markerfacecolor='black', marker='.')\n",
    "# ax.axis('off')\n",
    "# ax.set_xticks(())\n",
    "# ax.set_yticks(())\n",
    "ax.set_aspect('equal')\n",
    "\n",
    "xlim = ax.get_xlim()\n",
    "\n",
    "plt.show()"
   ]
  },
  {
   "cell_type": "code",
   "execution_count": null,
   "metadata": {},
   "outputs": [],
   "source": [
    "def kmeans(data, n_clusters, n_reps=10, n_iter_max=100):\n",
    "    \n",
    "    # Compléter\n",
    "    \n",
    "    return best_centers, best_score"
   ]
  },
  {
   "cell_type": "code",
   "execution_count": null,
   "metadata": {},
   "outputs": [],
   "source": [
    "# Appliquer kmeans sur le jeu de données généré\n",
    "\n",
    "for n_clusters in range(1, 6):\n",
    "    \n",
    "    k_means_cluster_centers, k_means_score = kmeans(X, n_clusters)\n",
    "\n",
    "    k_means_labels = pairwise_distances_argmin(X, k_means_cluster_centers)\n",
    "\n",
    "    # Plot result\n",
    "    fig = plt.figure(figsize=(4, 3))\n",
    "    fig.subplots_adjust(left=0.02, right=0.98, bottom=0.05, top=0.9)\n",
    "\n",
    "    ax = fig.add_subplot(1, 1, 1)\n",
    "    for k, col in zip(range(n_clusters), colors[:n_clusters]):\n",
    "        my_members = k_means_labels == k\n",
    "        cluster_center = k_means_cluster_centers[k]\n",
    "        ax.plot(X[my_members, 0], X[my_members, 1], 'w',\n",
    "                markerfacecolor=col, marker='.')\n",
    "        ax.plot(cluster_center[0], cluster_center[1], 'o', markerfacecolor=col,\n",
    "                markeredgecolor='k', markersize=6)\n",
    "    ax.set_title('score={:.02f}'.format(k_means_score))\n",
    "    ax.set_aspect('equal')\n",
    "\n",
    "    plt.show()"
   ]
  },
  {
   "cell_type": "markdown",
   "metadata": {},
   "source": [
    "#### Quelles sont vos observations ?"
   ]
  },
  {
   "cell_type": "markdown",
   "metadata": {},
   "source": [
    "#### *Ecrire votre réponse ici.*"
   ]
  },
  {
   "cell_type": "markdown",
   "metadata": {},
   "source": [
    "#### - Appliquez une transformation linéaire de l'espace X et visualisez les clusters."
   ]
  },
  {
   "cell_type": "code",
   "execution_count": null,
   "metadata": {},
   "outputs": [],
   "source": [
    "transformation = [[0.60834549, -0.63667341], [-0.40887718, 0.85253229]]\n",
    "X_aniso = np.dot(X, transformation)\n",
    "n_clusters=3\n",
    "\n",
    "k_means_cluster_centers, k_means_score = kmeans(X_aniso, n_clusters)\n",
    "\n",
    "k_means_labels = pairwise_distances_argmin(X_aniso, k_means_cluster_centers)\n",
    "\n",
    "# Plot result\n",
    "fig = plt.figure(figsize=(4, 3))\n",
    "fig.subplots_adjust(left=0.02, right=0.98, bottom=0.05, top=0.9)\n",
    "\n",
    "ax = fig.add_subplot(1, 1, 1)\n",
    "for k, col in zip(range(n_clusters), colors[:n_clusters]):\n",
    "    my_members = k_means_labels == k\n",
    "    cluster_center = k_means_cluster_centers[k]\n",
    "    ax.plot(X_aniso[my_members, 0], X_aniso[my_members, 1], 'w',\n",
    "            markerfacecolor=col, marker='.')\n",
    "    ax.plot(cluster_center[0], cluster_center[1], 'o', markerfacecolor=col,\n",
    "            markeredgecolor='k', markersize=6)\n",
    "ax.set_title('score={:.02f}'.format(k_means_score))\n",
    "ax.set_xlim(xlim)\n",
    "ax.set_aspect(1)\n",
    "\n",
    "plt.show()"
   ]
  },
  {
   "cell_type": "markdown",
   "metadata": {},
   "source": [
    "#### Quelles sont vos observations ?"
   ]
  },
  {
   "cell_type": "markdown",
   "metadata": {},
   "source": [
    "#### *Ecrire votre réponse ici.*"
   ]
  },
  {
   "cell_type": "markdown",
   "metadata": {},
   "source": [
    "### 2) Appliquez votre k-means sur MNIST"
   ]
  },
  {
   "cell_type": "code",
   "execution_count": null,
   "metadata": {},
   "outputs": [],
   "source": [
    "# Importer les données\n",
    "mnist = fetch_mldata(\"MNIST original\", data_home=\"/softwares/INFO/Module_ML/scikit_learn_data\")\n",
    "\n",
    "# Sur vos machines perso remplacer par\n",
    "# mnist = fetch_mldata(\"MNIST original\")\n",
    "\n",
    "# rescale the data\n",
    "X, Y = mnist.data / 255., mnist.target"
   ]
  },
  {
   "cell_type": "code",
   "execution_count": null,
   "metadata": {},
   "outputs": [],
   "source": [
    "cluster_centers, score = kmeans(...)"
   ]
  },
  {
   "cell_type": "markdown",
   "metadata": {},
   "source": [
    "NB: récupérez les labels avec pairwise_distances_argmin"
   ]
  },
  {
   "cell_type": "code",
   "execution_count": null,
   "metadata": {},
   "outputs": [],
   "source": [
    "x_clusters = ..."
   ]
  },
  {
   "cell_type": "markdown",
   "metadata": {},
   "source": [
    "#### - Affichez l'image représentant le centroïde du cluster, pour chaque cluster"
   ]
  },
  {
   "cell_type": "code",
   "execution_count": null,
   "metadata": {},
   "outputs": [],
   "source": [
    "# CLUSTER CENTERS\n",
    "fig, axes = plt.subplots(nrows=2, ncols=5, figsize=(16, 6), squeeze=False)\n",
    "\n",
    "for i in range(10):\n",
    "    r = i // 5\n",
    "    c = i % 5\n",
    "    img = cluster_centers[i].reshape(28, 28)\n",
    "    axes[r, c].imshow(img)\n",
    "    \n",
    "plt.show()"
   ]
  },
  {
   "cell_type": "markdown",
   "metadata": {},
   "source": [
    "#### Quelles sont vos observations ?"
   ]
  },
  {
   "cell_type": "markdown",
   "metadata": {},
   "source": [
    "#### *Ecrire votre réponse ici.*"
   ]
  },
  {
   "cell_type": "markdown",
   "metadata": {},
   "source": [
    "#### - Affichez pour chaque digit  sa répartition dans les clusters"
   ]
  },
  {
   "cell_type": "code",
   "execution_count": null,
   "metadata": {},
   "outputs": [],
   "source": [
    "# CLUSTER DISTRIBUTION PER DIGIT\n",
    "\n",
    "fig, axes = plt.subplots(nrows=10, ncols=1, figsize=(10, 32), squeeze=False)\n",
    "\n",
    "for i in range(10):\n",
    "    digit_idxs = [j for j in range(X.shape[0]) if Y[j] == i]\n",
    "    axes[i, 0].hist(x_clusters[digit_idxs], 10)\n",
    "    axes[i, 0].set_title(\"digit {}\".format(i))\n",
    "\n",
    "plt.show()"
   ]
  },
  {
   "cell_type": "markdown",
   "metadata": {},
   "source": [
    "#### Quelles sont vos observations ?"
   ]
  },
  {
   "cell_type": "markdown",
   "metadata": {},
   "source": [
    "#### *Ecrire votre réponse ici.*"
   ]
  },
  {
   "cell_type": "markdown",
   "metadata": {},
   "source": [
    "#### - Affichez pour chaque clusters les digits présents"
   ]
  },
  {
   "cell_type": "code",
   "execution_count": null,
   "metadata": {},
   "outputs": [],
   "source": [
    "# DIGIT DISTRIBUTION PER CLUSTER\n",
    "\n",
    "fig, axes = plt.subplots(nrows=10, ncols=1, figsize=(10, 32), squeeze=False)\n",
    "\n",
    "for i in range(10):\n",
    "    digit_idxs = [j for j in range(x.shape[0]) if x_clusters[j] == i]\n",
    "    axes[i, 0].hist(Y[digit_idxs], 10)\n",
    "    axes[i, 0].set_title(\"cluster {}\".format(i))\n",
    "\n",
    "plt.show()"
   ]
  },
  {
   "cell_type": "markdown",
   "metadata": {},
   "source": [
    "#### Quelles sont vos observations ?"
   ]
  },
  {
   "cell_type": "markdown",
   "metadata": {},
   "source": [
    "#### *Ecrire votre réponse ici.*"
   ]
  },
  {
   "cell_type": "markdown",
   "metadata": {},
   "source": [
    "## II) Gaussian Mixture"
   ]
  },
  {
   "cell_type": "markdown",
   "metadata": {},
   "source": [
    "#### - Faites la même chose que pour k-means mais cette fois-ci en utilisant le modèle GMM de scikit-learn"
   ]
  },
  {
   "cell_type": "code",
   "execution_count": null,
   "metadata": {},
   "outputs": [],
   "source": []
  },
  {
   "cell_type": "markdown",
   "metadata": {},
   "source": [
    "#### - Bonus: Générez et affichez des digits aléatoires à partir de votre modèle GMM"
   ]
  },
  {
   "cell_type": "code",
   "execution_count": null,
   "metadata": {},
   "outputs": [],
   "source": []
  }
 ],
 "metadata": {
  "kernelspec": {
   "display_name": "Python 3",
   "language": "python",
   "name": "python3"
  },
  "language_info": {
   "codemirror_mode": {
    "name": "ipython",
    "version": 3
   },
   "file_extension": ".py",
   "mimetype": "text/x-python",
   "name": "python",
   "nbconvert_exporter": "python",
   "pygments_lexer": "ipython3",
   "version": "3.6.3"
  }
 },
 "nbformat": 4,
 "nbformat_minor": 2
}
